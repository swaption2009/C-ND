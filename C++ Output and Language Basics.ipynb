{
 "cells": [
  {
   "cell_type": "markdown",
   "metadata": {
    "graffitiCellId": "id_k79tvsc"
   },
   "source": [
    "## First Code Example\n",
    "\n",
    "The next cell contains the first example of code that might be included in a typical C++ program. Hover your cursor over each line of the code and then click play to hear an explanation, or have a look at the **Review** section below."
   ]
  },
  {
   "cell_type": "code",
   "execution_count": null,
   "metadata": {
    "graffitiCellId": "id_1385hzh",
    "graffitiConfig": {
     "executeCellViaGraffiti": "14ov31p_nb6fsqb"
    }
   },
   "outputs": [],
   "source": [
    "#include <iostream>\n",
    "using std::cout;\n",
    "\n",
    "int main() {\n",
    "    cout << \"Hello!\" << \"\\n\";   \n",
    "}"
   ]
  },
  {
   "cell_type": "markdown",
   "metadata": {
    "graffitiCellId": "id_14ov31p"
   },
   "source": [
    "<span class=\"graffiti-highlight graffiti-id_14ov31p-id_nb6fsqb\"><i></i><button>Run Code</button></span>"
   ]
  },
  {
   "cell_type": "markdown",
   "metadata": {
    "graffitiCellId": "id_bco5kpa",
    "graffitiConfig": {
     "rows": 6,
     "terminalId": "id_ruqo3co",
     "type": "terminal"
    }
   },
   "source": [
    "<i>Loading terminal (id_bco5kpa), please wait...</i>"
   ]
  },
  {
   "cell_type": "markdown",
   "metadata": {
    "graffitiCellId": "id_b1svn7e"
   },
   "source": [
    "## Review\n",
    "\n",
    "`#include <iostream>`\n",
    "\n",
    "- The `#include` is a preprocessor command which is executed before the code is compiled. It searches for the `iostream` header file and pastes its contents into the program. `iostream` contains the declarations for the input/output stream objects.\n",
    "\n",
    "\n",
    "`using std::cout;`\n",
    "\n",
    "- Namespaces are a way in C++ to group identifiers (names) together. They provide context for identifiers to avoid naming collisions. The `std` namespace is the namespace used for the standard library.\n",
    "- The `using` command adds `std::cout` to the global scope of the program. This way you can use `cout` in your code instead of having to write `std::cout`.\n",
    "- `cout` is an output stream you will use to send output to the notebook or to a terminal, if you are using one.\n",
    "- Note that the second two lines in the example end with a semicolon `;`. Coding statements end with a semicolon in C++. The `#include` statement is a preprocessor command, so it doesn't need one.\n",
    "\n",
    "`cout << \"Hello!\" << \"\\n\";`\n",
    "\n",
    "- In this line, the code is using cout to send output to the notebook. The `<<` operator is the stream insertion operator, and it writes what's on the right side of the operator to the left side. So in this case, `\"Message here\"` is written to the output stream `cout`."
   ]
  }
 ],
 "metadata": {
  "graffiti": {
   "firstAuthorId": "813558546",
   "id": "id_brtpmom",
   "language": "EN"
  },
  "kernelspec": {
   "display_name": "C++17",
   "language": "C++17",
   "name": "xeus-cling-cpp17"
  },
  "language_info": {
   "codemirror_mode": "text/x-c++src",
   "file_extension": ".cpp",
   "mimetype": "text/x-c++src",
   "name": "c++",
   "version": "-std=c++17"
  }
 },
 "nbformat": 4,
 "nbformat_minor": 2
}
